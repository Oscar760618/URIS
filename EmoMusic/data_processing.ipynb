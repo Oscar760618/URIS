{
 "cells": [
  {
   "cell_type": "code",
   "execution_count": 3,
   "id": "9532b62f",
   "metadata": {},
   "outputs": [],
   "source": [
    "import pandas as pd\n",
    "import numpy as np\n",
    "import os"
   ]
  },
  {
   "cell_type": "code",
   "execution_count": 4,
   "id": "562e0dc8",
   "metadata": {},
   "outputs": [],
   "source": [
    "VA_data_path = 'D:/PolyU/URIS/Part2_projects/WEMOM_V1/Data/All_Data/labels.csv'\n",
    "save_path = 'D:/PolyU/URIS/Part2_projects/WEMOM_V1/Data/Saves/'"
   ]
  },
  {
   "cell_type": "code",
   "execution_count": 5,
   "id": "f9bdba67",
   "metadata": {},
   "outputs": [
    {
     "name": "stdout",
     "output_type": "stream",
     "text": [
      "Reading valence and arousal data from: D:/PolyU/URIS/Part2_projects/WEMOM_V1/Data/All_Data/labels.csv\n",
      "Index(['Unnamed: 0', 'Valence', 'Arousal', 'Valence.1', 'Arousal.1',\n",
      "       'Valence.2', 'Arousal.2', 'Valence.3', 'Arousal.3', 'Valence.4',\n",
      "       'Arousal.4', 'Valence.5', 'Arousal.5', 'Valence_Mean', 'Arousal_Mean'],\n",
      "      dtype='object')\n"
     ]
    }
   ],
   "source": [
    "print(f\"Reading valence and arousal data from: {VA_data_path}\")\n",
    "df = pd.read_csv(VA_data_path)\n",
    "print(df.columns)"
   ]
  },
  {
   "cell_type": "code",
   "execution_count": 6,
   "id": "b7ad2948",
   "metadata": {},
   "outputs": [],
   "source": [
    "del_VA_list = [\"0491\", \"0838\", \"0907\", \"1511\", \"1595\", \"1752\", \"1803\", \"1809\",\"1834\",\"2110\",\"2449\",\"2726\",\"2731\",\"2815\",\"2933\"]\n",
    "del_indices = [int(x) - 1 for x in del_VA_list]\n",
    "df_dropped = df.drop(del_indices)"
   ]
  },
  {
   "cell_type": "code",
   "execution_count": 8,
   "id": "76be89e1",
   "metadata": {},
   "outputs": [],
   "source": [
    "\n",
    "Arousal_lst = df_dropped['Arousal_Mean'].tolist()\n",
    "Valence_lst = df_dropped['Valence_Mean'].tolist()\n"
   ]
  },
  {
   "cell_type": "code",
   "execution_count": 9,
   "id": "d70c68f1",
   "metadata": {},
   "outputs": [],
   "source": [
    "arousal_lst = np.array(Arousal_lst)\n",
    "valence_lst = np.array(Valence_lst)"
   ]
  },
  {
   "cell_type": "code",
   "execution_count": 10,
   "id": "53438e70",
   "metadata": {},
   "outputs": [
    {
     "name": "stdout",
     "output_type": "stream",
     "text": [
      "Number of Arousal: 2985\n",
      "Number of Valence: 2985\n"
     ]
    }
   ],
   "source": [
    "print(f\"Number of Arousal: {len(Arousal_lst)}\")\n",
    "print(f\"Number of Valence: {len(Valence_lst)}\")"
   ]
  },
  {
   "cell_type": "code",
   "execution_count": 11,
   "id": "a631a5c7",
   "metadata": {},
   "outputs": [],
   "source": [
    "\n",
    "label_lst = np.zeros(valence_lst.shape, dtype=int)\n",
    "label_lst[(valence_lst <= 5) & (arousal_lst <= 5)] = 0\n",
    "label_lst[(valence_lst <= 5) & (arousal_lst > 5)] = 1\n",
    "label_lst[(valence_lst > 5) & (arousal_lst <= 5)] = 2\n",
    "label_lst[(valence_lst > 5) & (arousal_lst > 5)] = 3\n"
   ]
  },
  {
   "cell_type": "code",
   "execution_count": 12,
   "id": "badcc53a",
   "metadata": {},
   "outputs": [],
   "source": [
    "data_lst = np.load(save_path + \"data.npy\", allow_pickle=True)\n",
    "rhythm_lst = np.load(save_path + \"rhythm.npy\", allow_pickle=True)\n",
    "note_density_lst = np.load(save_path + \"note_density.npy\", allow_pickle=True)\n",
    "chroma_lst = np.load(save_path + \"chroma.npy\", allow_pickle=True)"
   ]
  },
  {
   "cell_type": "code",
   "execution_count": 13,
   "id": "23b442d7",
   "metadata": {},
   "outputs": [],
   "source": [
    "lists = {\n",
    "    'data': data_lst,\n",
    "    'rhythm': rhythm_lst,\n",
    "    'note_density': note_density_lst,\n",
    "    'chroma': chroma_lst,\n",
    "    'label': label_lst,\n",
    "    'valence': valence_lst,\n",
    "    'arousal': arousal_lst\n",
    "}"
   ]
  },
  {
   "cell_type": "code",
   "execution_count": 17,
   "id": "5e2fc862",
   "metadata": {},
   "outputs": [
    {
     "name": "stdout",
     "output_type": "stream",
     "text": [
      "Music_VAE_data_lst.npy saved successfully!\n",
      "Music_CL_data_lst.npy saved successfully!\n",
      "Music_VAE_rhythm_lst.npy saved successfully!\n",
      "Music_CL_rhythm_lst.npy saved successfully!\n",
      "Music_VAE_note_density_lst.npy saved successfully!\n",
      "Music_CL_note_density_lst.npy saved successfully!\n",
      "Music_VAE_chroma_lst.npy saved successfully!\n",
      "Music_CL_chroma_lst.npy saved successfully!\n",
      "Music_VAE_label_lst.npy saved successfully!\n",
      "Music_CL_label_lst.npy saved successfully!\n",
      "Music_VAE_valence_lst.npy saved successfully!\n",
      "Music_CL_valence_lst.npy saved successfully!\n",
      "Music_VAE_arousal_lst.npy saved successfully!\n",
      "Music_CL_arousal_lst.npy saved successfully!\n"
     ]
    }
   ],
   "source": [
    "new_lists = {}\n",
    "for name, lst in lists.items():\n",
    "    new_lists[f'Music_VAE_{name}_lst'] = lst[:2000]  \n",
    "    new_lists[f'Music_CL_{name}_lst'] = lst[2000:]  \n",
    "\n",
    "for key, value in new_lists.items():\n",
    "    np.save(os.path.join(save_path + f\"{key}.npy\"), value)\n",
    "\n",
    "for key in new_lists.keys():\n",
    "    print(f\"{key}.npy saved successfully!\")"
   ]
  },
  {
   "cell_type": "code",
   "execution_count": 18,
   "id": "0c6a429e",
   "metadata": {},
   "outputs": [
    {
     "name": "stdout",
     "output_type": "stream",
     "text": [
      "Name of the list: Music_VAE_data_lst\n",
      "Shape of list: (2000, 1057)\n",
      "Name of the list: Music_CL_data_lst\n",
      "Shape of list: (985, 1057)\n",
      "Name of the list: Music_VAE_rhythm_lst\n",
      "Shape of list: (2000,)\n",
      "Name of the list: Music_CL_rhythm_lst\n",
      "Shape of list: (985,)\n",
      "Name of the list: Music_VAE_note_density_lst\n",
      "Shape of list: (2000,)\n",
      "Name of the list: Music_CL_note_density_lst\n",
      "Shape of list: (985,)\n",
      "Name of the list: Music_VAE_chroma_lst\n",
      "Shape of list: (2000,)\n",
      "Name of the list: Music_CL_chroma_lst\n",
      "Shape of list: (985,)\n",
      "Name of the list: Music_VAE_label_lst\n",
      "Shape of list: (2000,)\n",
      "Name of the list: Music_CL_label_lst\n",
      "Shape of list: (985,)\n",
      "Name of the list: Music_VAE_valence_lst\n",
      "Shape of list: (2000,)\n",
      "Name of the list: Music_CL_valence_lst\n",
      "Shape of list: (985,)\n",
      "Name of the list: Music_VAE_arousal_lst\n",
      "Shape of list: (2000,)\n",
      "Name of the list: Music_CL_arousal_lst\n",
      "Shape of list: (985,)\n"
     ]
    }
   ],
   "source": [
    "for key, value in new_lists.items():\n",
    "    print(f\"Name of the list: {key}\")\n",
    "    print(f\"Shape of list: {np.shape(value)}\")"
   ]
  }
 ],
 "metadata": {
  "kernelspec": {
   "display_name": "Python 3",
   "language": "python",
   "name": "python3"
  },
  "language_info": {
   "codemirror_mode": {
    "name": "ipython",
    "version": 3
   },
   "file_extension": ".py",
   "mimetype": "text/x-python",
   "name": "python",
   "nbconvert_exporter": "python",
   "pygments_lexer": "ipython3",
   "version": "3.13.2"
  }
 },
 "nbformat": 4,
 "nbformat_minor": 5
}
