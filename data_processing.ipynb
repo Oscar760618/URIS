{
 "cells": [
  {
   "cell_type": "code",
   "execution_count": 35,
   "id": "78baca88",
   "metadata": {},
   "outputs": [],
   "source": [
    "import pandas as pd\n",
    "import numpy as np\n",
    "import os"
   ]
  },
  {
   "cell_type": "code",
   "execution_count": 39,
   "id": "9210faa4",
   "metadata": {},
   "outputs": [],
   "source": [
    "VA_data_path = 'D:/PolyU/URIS/Part2_projects/WEMOM_V1/Data/All_Data/text_VA_clean.csv'\n",
    "save_path = 'D:/PolyU/URIS/Part2_projects/WEMOM_V1/Data/Saves/'\n",
    "df = pd.read_csv(VA_data_path)"
   ]
  },
  {
   "cell_type": "code",
   "execution_count": 26,
   "id": "2cf2a3ca",
   "metadata": {},
   "outputs": [],
   "source": [
    "Valence_lst = df['Valence'].tolist()\n",
    "Arousal_lst = df['Arousal'].tolist()"
   ]
  },
  {
   "cell_type": "code",
   "execution_count": 27,
   "id": "d3d7a0cb",
   "metadata": {},
   "outputs": [],
   "source": [
    "arousal_lst = np.array(Arousal_lst)\n",
    "valence_lst = np.array(Valence_lst)"
   ]
  },
  {
   "cell_type": "code",
   "execution_count": 28,
   "id": "9b716a9c",
   "metadata": {},
   "outputs": [
    {
     "name": "stdout",
     "output_type": "stream",
     "text": [
      "Number of Arousal: 12832\n",
      "Number of Valence: 12832\n"
     ]
    }
   ],
   "source": [
    "print(f\"Number of Arousal: {len(Arousal_lst)}\")\n",
    "print(f\"Number of Valence: {len(Valence_lst)}\")"
   ]
  },
  {
   "cell_type": "code",
   "execution_count": 29,
   "id": "11e14eed",
   "metadata": {},
   "outputs": [],
   "source": [
    "label_lst = np.zeros(valence_lst.shape, dtype=int)\n",
    "label_lst[(valence_lst <= 5) & (arousal_lst <= 5)] = 0\n",
    "label_lst[(valence_lst <= 5) & (arousal_lst > 5)] = 1\n",
    "label_lst[(valence_lst > 5) & (arousal_lst <= 5)] = 2\n",
    "label_lst[(valence_lst > 5) & (arousal_lst > 5)] = 3"
   ]
  },
  {
   "cell_type": "code",
   "execution_count": 32,
   "id": "728c3b16",
   "metadata": {},
   "outputs": [],
   "source": [
    "sentence_lst = np.load(save_path + \"sentences_text.npy\", allow_pickle=True)"
   ]
  },
  {
   "cell_type": "code",
   "execution_count": 33,
   "id": "2d503e14",
   "metadata": {},
   "outputs": [],
   "source": [
    "lists = {\n",
    "    'label': label_lst,\n",
    "    'valence': valence_lst,\n",
    "    'arousal': arousal_lst,\n",
    "    'sentence': sentence_lst\n",
    "}"
   ]
  },
  {
   "cell_type": "code",
   "execution_count": 40,
   "id": "02a27b94",
   "metadata": {},
   "outputs": [
    {
     "name": "stdout",
     "output_type": "stream",
     "text": [
      "Text_VAE_label_lst.npy saved successfully!\n",
      "Text_CL_label_lst.npy saved successfully!\n",
      "Text_VAE_valence_lst.npy saved successfully!\n",
      "Text_CL_valence_lst.npy saved successfully!\n",
      "Text_VAE_arousal_lst.npy saved successfully!\n",
      "Text_CL_arousal_lst.npy saved successfully!\n",
      "Text_VAE_sentence_lst.npy saved successfully!\n",
      "Text_CL_sentence_lst.npy saved successfully!\n"
     ]
    }
   ],
   "source": [
    "new_lists = {}\n",
    "for name, lst in lists.items():\n",
    "    new_lists[f'Text_VAE_{name}_lst'] = lst[:6000] \n",
    "    new_lists[f'Text_CL_{name}_lst'] = lst[6000:]  \n",
    "\n",
    "for key, value in new_lists.items():\n",
    "    np.save(os.path.join(save_path + f\"{key}.npy\"), value)\n",
    "\n",
    "for key in new_lists.keys():\n",
    "    print(f\"{key}.npy saved successfully!\")"
   ]
  },
  {
   "cell_type": "code",
   "execution_count": 41,
   "id": "c1e080ff",
   "metadata": {},
   "outputs": [
    {
     "name": "stdout",
     "output_type": "stream",
     "text": [
      "Name of the list: Text_VAE_label_lst\n",
      "Shape of list: (6000,)\n",
      "Name of the list: Text_CL_label_lst\n",
      "Shape of list: (6832,)\n",
      "Name of the list: Text_VAE_valence_lst\n",
      "Shape of list: (6000,)\n",
      "Name of the list: Text_CL_valence_lst\n",
      "Shape of list: (6832,)\n",
      "Name of the list: Text_VAE_arousal_lst\n",
      "Shape of list: (6000,)\n",
      "Name of the list: Text_CL_arousal_lst\n",
      "Shape of list: (6832,)\n",
      "Name of the list: Text_VAE_sentence_lst\n",
      "Shape of list: (6000,)\n",
      "Name of the list: Text_CL_sentence_lst\n",
      "Shape of list: (6832,)\n"
     ]
    }
   ],
   "source": [
    "for key, value in new_lists.items():\n",
    "    print(f\"Name of the list: {key}\")\n",
    "    print(f\"Shape of list: {np.shape(value)}\")"
   ]
  }
 ],
 "metadata": {
  "kernelspec": {
   "display_name": "Python 3",
   "language": "python",
   "name": "python3"
  },
  "language_info": {
   "codemirror_mode": {
    "name": "ipython",
    "version": 3
   },
   "file_extension": ".py",
   "mimetype": "text/x-python",
   "name": "python",
   "nbconvert_exporter": "python",
   "pygments_lexer": "ipython3",
   "version": "3.13.2"
  }
 },
 "nbformat": 4,
 "nbformat_minor": 5
}
