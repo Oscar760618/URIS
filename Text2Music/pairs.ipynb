{
 "cells": [
  {
   "cell_type": "code",
   "execution_count": 14,
   "metadata": {},
   "outputs": [],
   "source": [
    "import random\n",
    "import numpy as np\n",
    "import pandas as pd\n",
    "import os\n",
    "\n",
    "music_data_path = 'D:/PolyU/URIS/Part2_projects/WEMOM_V1/Data/labels.csv'\n",
    "text_data_path = 'D:/PolyU/URIS/Part2_projects/WEMOM_V1/Data/Text_dataset/text_VA_clean.csv'"
   ]
  },
  {
   "cell_type": "code",
   "execution_count": 16,
   "metadata": {},
   "outputs": [
    {
     "name": "stdout",
     "output_type": "stream",
     "text": [
      "Index(['Unnamed: 0', 'Valence', 'Arousal', 'Valence.1', 'Arousal.1',\n",
      "       'Valence.2', 'Arousal.2', 'Valence.3', 'Arousal.3', 'Valence.4',\n",
      "       'Arousal.4', 'Valence.5', 'Arousal.5', 'Valence_Mean', 'Arousal_Mean'],\n",
      "      dtype='object')\n",
      "      Valence_Mean  Arousal_Mean\n",
      "0         7.333333      7.500000\n",
      "1         4.166667      4.833333\n",
      "2         7.333333      7.666667\n",
      "3         4.166667      6.500000\n",
      "4         7.166667      8.500000\n",
      "...            ...           ...\n",
      "2995      4.166667      4.000000\n",
      "2996      3.666667      4.666667\n",
      "2997      5.166667      5.833333\n",
      "2998      3.333333      6.333333\n",
      "2999      5.333333      7.000000\n",
      "\n",
      "[3000 rows x 2 columns]\n"
     ]
    }
   ],
   "source": [
    "df = pd.read_csv(music_data_path)\n",
    "print(df.columns)\n",
    "del_VA_list = [\"0491\", \"0838\", \"0907\", \"1511\", \"1595\", \"1752\", \"1803\", \"1809\",\"1834\",\"2110\",\"2449\",\"2726\",\"2731\",\"2815\",\"2933\"]\n",
    "music_df = df[['Valence_Mean', 'Arousal_Mean']]\n",
    "print(music_df)"
   ]
  },
  {
   "cell_type": "code",
   "execution_count": 19,
   "metadata": {},
   "outputs": [
    {
     "name": "stdout",
     "output_type": "stream",
     "text": [
      "<bound method NDFrame.head of       Valence_Mean  Arousal_Mean\n",
      "1         4.166667      6.500000\n",
      "3         7.166667      8.000000\n",
      "5         7.000000      4.333333\n",
      "7         3.833333      3.666667\n",
      "9         3.500000      4.166667\n",
      "...            ...           ...\n",
      "2990      4.166667      4.000000\n",
      "2991      3.666667      4.666667\n",
      "2992      5.166667      5.833333\n",
      "2993      3.333333      6.333333\n",
      "2994      5.333333      7.000000\n",
      "\n",
      "[2990 rows x 2 columns]>\n"
     ]
    }
   ],
   "source": [
    "music_df.reset_index(drop=True, inplace=True)\n",
    "\n",
    "# 要删除的索引列表（基于位置）\n",
    "del_VA_list = [0, 2, 4, 6, 8]  # 示例索引位置\n",
    "\n",
    "# 删除指定的行\n",
    "music_df = music_df.drop(index=del_VA_list)\n",
    "print(music_df.head)"
   ]
  },
  {
   "cell_type": "code",
   "execution_count": 12,
   "metadata": {},
   "outputs": [
    {
     "name": "stdout",
     "output_type": "stream",
     "text": [
      "Reading text data from: D:/PolyU/URIS/Part2_projects/WEMOM_V1/Data/Text_dataset/text_VA_clean.csv\n",
      "Index(['sentence', 'Valence', 'Arousal'], dtype='object')\n",
      "       Valence  Arousal\n",
      "0          5.3      4.6\n",
      "1          4.7      5.0\n",
      "2          6.6      4.6\n",
      "3          6.9      5.7\n",
      "4          7.1      5.8\n",
      "...        ...      ...\n",
      "12827      4.7      0.6\n",
      "12828      9.3      6.2\n",
      "12829      4.7      0.0\n",
      "12830      4.0      5.0\n",
      "12831      4.7      1.2\n",
      "\n",
      "[12832 rows x 2 columns]\n"
     ]
    }
   ],
   "source": [
    "print(f\"Reading text data from: {text_data_path}\")\n",
    "dftext = pd.read_csv(text_data_path)\n",
    "print(dftext.columns) \n",
    "text_df = dftext[['Valence','Arousal']]\n",
    "print(text_df)"
   ]
  },
  {
   "cell_type": "code",
   "execution_count": 20,
   "metadata": {},
   "outputs": [
    {
     "name": "stdout",
     "output_type": "stream",
     "text": [
      "Music Dataset: [{'index': 1, 'valence': np.float64(4.166666667), 'arousal': np.float64(6.5)}, {'index': 3, 'valence': np.float64(7.166666667), 'arousal': np.float64(8.0)}, {'index': 5, 'valence': np.float64(7.0), 'arousal': np.float64(4.333333333)}, {'index': 7, 'valence': np.float64(3.833333333), 'arousal': np.float64(3.666666667)}, {'index': 9, 'valence': np.float64(3.5), 'arousal': np.float64(4.166666667)}]\n",
      "Text Dataset: [{'index': 0, 'valence': np.float64(5.300000000000001), 'arousal': np.float64(4.6000000000000005)}, {'index': 1, 'valence': np.float64(4.699999999999999), 'arousal': np.float64(5.0)}, {'index': 2, 'valence': np.float64(6.6000000000000005), 'arousal': np.float64(4.6000000000000005)}, {'index': 3, 'valence': np.float64(6.9), 'arousal': np.float64(5.699999999999999)}, {'index': 4, 'valence': np.float64(7.1), 'arousal': np.float64(5.8)}]\n"
     ]
    }
   ],
   "source": [
    "# 创建音乐数据集的字典\n",
    "music_dataset = [\n",
    "    {\n",
    "        \"index\": i,\n",
    "        \"valence\": row['Valence_Mean'],\n",
    "        \"arousal\": row['Arousal_Mean']\n",
    "    }\n",
    "    for i, row in music_df.iterrows()\n",
    "]\n",
    "\n",
    "# 创建文本数据集的字典\n",
    "text_dataset = [\n",
    "    {\n",
    "        \"index\": i,\n",
    "        \"valence\": row['Valence'],  # 这里假设 V 是 Valence\n",
    "        \"arousal\": row['Arousal']   # 这里假设 A 是 Arousal\n",
    "    }\n",
    "    for i, row in text_df.iterrows()\n",
    "]\n",
    "\n",
    "# 输出结果以验证\n",
    "print(\"Music Dataset:\", music_dataset[:5])  # 打印前5个样本\n",
    "print(\"Text Dataset:\", text_dataset[:5])    # 打印前5个样本"
   ]
  },
  {
   "cell_type": "code",
   "execution_count": 21,
   "metadata": {},
   "outputs": [
    {
     "name": "stdout",
     "output_type": "stream",
     "text": [
      "Samples saved!\n"
     ]
    }
   ],
   "source": [
    "import random\n",
    "\n",
    "# 参数\n",
    "n = 4  # 每个锚点的正负样本数量\n",
    "num_anchors = 100  # 锚点数量\n",
    "train_ratio = 0.8  # 训练集比例\n",
    "\n",
    "# 计算情感相似度\n",
    "def calculate_similarity(valence1, arousal1, valence2, arousal2):\n",
    "    return ((valence1 - valence2) ** 2 + (arousal1 - arousal2) ** 2) ** 0.5\n",
    "\n",
    "# 构建正负样本集\n",
    "def build_samples(text_dataset, music_dataset, n, num_anchors):\n",
    "    anchors = random.sample(text_dataset, num_anchors)  \n",
    "    text_pos_samples = []\n",
    "    text_neg_samples = []\n",
    "    music_pos_samples = []\n",
    "    music_neg_samples = []\n",
    "\n",
    "    for anchor in anchors:\n",
    "        anchor_index = anchor[\"index\"]\n",
    "        anchor_valence = anchor[\"valence\"]\n",
    "        anchor_arousal = anchor[\"arousal\"]\n",
    "\n",
    "        # 计算与音乐样本的相似度\n",
    "        music_similarities = [\n",
    "            {\n",
    "                \"index\": music[\"index\"],\n",
    "                \"similarity\": calculate_similarity(\n",
    "                    anchor_valence, anchor_arousal, music[\"valence\"], music[\"arousal\"]\n",
    "                ),\n",
    "            }\n",
    "            for music in music_dataset\n",
    "        ]\n",
    "        music_similarities.sort(key=lambda x: x[\"similarity\"]) \n",
    "\n",
    "        # 计算与文本样本的相似度\n",
    "        text_similarities = [\n",
    "            {\n",
    "                \"index\": text[\"index\"],\n",
    "                \"similarity\": calculate_similarity(\n",
    "                    anchor_valence, anchor_arousal, text[\"valence\"], text[\"arousal\"]\n",
    "                ),\n",
    "            }\n",
    "            for text in text_dataset\n",
    "        ]\n",
    "        text_similarities.sort(key=lambda x: x[\"similarity\"])  \n",
    "\n",
    "        # 选取正负样本，并将主样本索引添加到每一行的开头\n",
    "        music_pos_samples.append([anchor_index] + [x[\"index\"] for x in music_similarities[:n]])\n",
    "        music_neg_samples.append([anchor_index] + [x[\"index\"] for x in music_similarities[-n:]])\n",
    "        text_pos_samples.append([anchor_index] + [x[\"index\"] for x in text_similarities[:n]])\n",
    "        text_neg_samples.append([anchor_index] + [x[\"index\"] for x in text_similarities[-n:]])\n",
    "\n",
    "    return anchors, text_pos_samples, text_neg_samples, music_pos_samples, music_neg_samples\n",
    "\n",
    "# 构建样本集\n",
    "anchors, text_pos_samples, text_neg_samples, music_pos_samples, music_neg_samples = build_samples(\n",
    "    text_dataset, music_dataset, n, num_anchors\n",
    ")\n",
    "\n",
    "# 分割为训练集和测试集\n",
    "train_size = int(len(text_pos_samples) * train_ratio)\n",
    "\n",
    "train_text_pos_samples = text_pos_samples[:train_size]\n",
    "test_text_pos_samples = text_pos_samples[train_size:]\n",
    "\n",
    "train_text_neg_samples = text_neg_samples[:train_size]\n",
    "test_text_neg_samples = text_neg_samples[train_size:]\n",
    "\n",
    "train_music_pos_samples = music_pos_samples[:train_size]\n",
    "test_music_pos_samples = music_pos_samples[train_size:]\n",
    "\n",
    "train_music_neg_samples = music_neg_samples[:train_size]\n",
    "test_music_neg_samples = music_neg_samples[train_size:]\n",
    "\n",
    "# 保存样本集索引\n",
    "with open(\"train_text_pos_samples.txt\", \"w\") as f:\n",
    "    for samples in train_text_pos_samples:\n",
    "        f.write(\" \".join(map(str, samples)) + \"\\n\")\n",
    "\n",
    "with open(\"test_text_pos_samples.txt\", \"w\") as f:\n",
    "    for samples in test_text_pos_samples:\n",
    "        f.write(\" \".join(map(str, samples)) + \"\\n\")\n",
    "\n",
    "with open(\"train_text_neg_samples.txt\", \"w\") as f:\n",
    "    for samples in train_text_neg_samples:\n",
    "        f.write(\" \".join(map(str, samples)) + \"\\n\")\n",
    "\n",
    "with open(\"test_text_neg_samples.txt\", \"w\") as f:\n",
    "    for samples in test_text_neg_samples:\n",
    "        f.write(\" \".join(map(str, samples)) + \"\\n\")\n",
    "\n",
    "with open(\"train_music_pos_samples.txt\", \"w\") as f:\n",
    "    for samples in train_music_pos_samples:\n",
    "        f.write(\" \".join(map(str, samples)) + \"\\n\")\n",
    "\n",
    "with open(\"test_music_pos_samples.txt\", \"w\") as f:\n",
    "    for samples in test_music_pos_samples:\n",
    "        f.write(\" \".join(map(str, samples)) + \"\\n\")\n",
    "\n",
    "with open(\"train_music_neg_samples.txt\", \"w\") as f:\n",
    "    for samples in train_music_neg_samples:\n",
    "        f.write(\" \".join(map(str, samples)) + \"\\n\")\n",
    "\n",
    "with open(\"test_music_neg_samples.txt\", \"w\") as f:\n",
    "    for samples in test_music_neg_samples:\n",
    "        f.write(\" \".join(map(str, samples)) + \"\\n\")\n",
    "\n",
    "print(\"Samples saved!\")"
   ]
  },
  {
   "cell_type": "code",
   "execution_count": null,
   "metadata": {},
   "outputs": [],
   "source": []
  }
 ],
 "metadata": {
  "kernelspec": {
   "display_name": "Python 3",
   "language": "python",
   "name": "python3"
  },
  "language_info": {
   "codemirror_mode": {
    "name": "ipython",
    "version": 3
   },
   "file_extension": ".py",
   "mimetype": "text/x-python",
   "name": "python",
   "nbconvert_exporter": "python",
   "pygments_lexer": "ipython3",
   "version": "3.13.2"
  }
 },
 "nbformat": 4,
 "nbformat_minor": 2
}
